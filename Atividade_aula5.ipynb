{
 "cells": [
  {
   "cell_type": "code",
   "execution_count": null,
   "metadata": {},
   "outputs": [],
   "source": [
    "#Faça um Programa que peça 2 números inteiros e um número real. Calcule e mostre:\n",
    "#a) O produto do dobro do primeiro com metade do segundo.\n",
    "#b) A soma do triplo do primeiro com o terceiro. o terceiro elevado ao cubo.\n",
    "#Perguntando os números\n",
    "numero = float(input(\"Digite um número inteiro\"))\n",
    "numero2 = float(input(\"Digite outro número inteiro\"))\n",
    "numero3 = float(input(\"Digite um número real\"))\n",
    "#Calcular os valores solicitados\n",
    "resultado = (2 * num1) * (num2 / 2)\n",
    "soma = (3 * num1) + num3\n",
    "cubo = num3 ** 3\n",
    "#Mostrar os resultados\n",
    "print(\"O produto do dobro do primeiro com metade do segundo é:\", resultado)\n",
    "print(\"A soma do triplo do primeiro com o terceiro é:\", soma)\n",
    "print(\"O terceiro elevado ao cubo é:\", cubo)"
   ]
  },
  {
   "cell_type": "code",
   "execution_count": 9,
   "metadata": {},
   "outputs": [
    {
     "name": "stdout",
     "output_type": "stream",
     "text": [
      "O maior número é: 30.0\n"
     ]
    }
   ],
   "source": [
    "#Faça um Programa que peça dois números e imprima o maior deles.\n",
    "#Perguntando os números\n",
    "num1 = float(input(\"Digite um número: \"))\n",
    "num2 = float(input(\"Digite outro número: \"))\n",
    "#Mostrar os resultados\n",
    "if num1 > num2:\n",
    "    print(\"O maior número é:\", num1)\n",
    "elif num2 > num1:\n",
    "    print(\"O maior número é:\", num2)"
   ]
  },
  {
   "cell_type": "code",
   "execution_count": 2,
   "metadata": {},
   "outputs": [
    {
     "name": "stdout",
     "output_type": "stream",
     "text": [
      "O valor é positivo.\n"
     ]
    }
   ],
   "source": [
    "#Faça um Programa que peça um valor e mostre na tela se o valor é positivo ou negativo.\n",
    "#Perguntando o número\n",
    "valor = float(input(\"Digite um valor: \"))\n",
    "#Mostre se o valor é positivo ou negativo\n",
    "if valor > 0:\n",
    "    print(\"O valor é positivo.\")\n",
    "elif valor < 0:\n",
    "    print(\"O valor é negativo.\")"
   ]
  },
  {
   "cell_type": "code",
   "execution_count": 11,
   "metadata": {},
   "outputs": [
    {
     "name": "stdout",
     "output_type": "stream",
     "text": [
      "Reprovado\n"
     ]
    }
   ],
   "source": [
    "#Faça um programa para a leitura de duas notas parciais de um aluno, o programa deve calcular a média alcançada por aluno e apresentar o resultado \"Aprovado\" ou \"Reprovado\".\n",
    "#Descobrindo as notas\n",
    "nota1 = float(input(\"Digite a primeira nota: \"))\n",
    "nota2 = float(input(\"Digite a segunda nota: \"))\n",
    "#Calculando as notas\n",
    "media = (nota1 + nota2) /2\n",
    "#Mostre se foi aprovado ou não\n",
    "if media >= 7:\n",
    "    print(\"Aprovado\")\n",
    "else:\n",
    "    print(\"Reprovado\")"
   ]
  },
  {
   "cell_type": "code",
   "execution_count": 3,
   "metadata": {},
   "outputs": [
    {
     "name": "stdout",
     "output_type": "stream",
     "text": [
      "O maior número é: 60.0\n"
     ]
    }
   ],
   "source": [
    "#Perguntando os números\n",
    "numero1 = float(input(\"Digite o primeiro número: \"))\n",
    "numero2 = float(input(\"Digite o segundo número: \"))\n",
    "numero3 = float(input(\"Digite o terceiro número: \"))\n",
    "#Descobrindo o maior número \n",
    "if numero1 > numero2:\n",
    "    if numero1 > numero3:\n",
    "        maior = numero1\n",
    "    else:\n",
    "        maior = numero3\n",
    "else:\n",
    "    if numero2 > numero3:\n",
    "        maior = numero2\n",
    "    else:\n",
    "        maior = numero3\n",
    "#Exibir o maior número\n",
    "print(\"O maior número é:\", maior)"
   ]
  }
 ],
 "metadata": {
  "kernelspec": {
   "display_name": "Python 3",
   "language": "python",
   "name": "python3"
  },
  "language_info": {
   "codemirror_mode": {
    "name": "ipython",
    "version": 3
   },
   "file_extension": ".py",
   "mimetype": "text/x-python",
   "name": "python",
   "nbconvert_exporter": "python",
   "pygments_lexer": "ipython3",
   "version": "3.11.9"
  }
 },
 "nbformat": 4,
 "nbformat_minor": 2
}
