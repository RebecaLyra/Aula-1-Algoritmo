{
 "cells": [
  {
   "cell_type": "markdown",
   "metadata": {},
   "source": [
    "CALCULADORA"
   ]
  },
  {
   "cell_type": "code",
   "execution_count": 6,
   "metadata": {},
   "outputs": [
    {
     "name": "stdout",
     "output_type": "stream",
     "text": [
      "+====================+\n",
      "| MENU DE OPERAÇÕES  |\n",
      "|    1 - Somar       |\n",
      "|    2 - Subtrair    |\n",
      "|    3 - Multiplicar |\n",
      "|    4 - Dividir     |\n",
      "|    0 - Sair        |\n",
      "+====================+\n",
      "O resultado da multiplicação é:  1100.0\n"
     ]
    }
   ],
   "source": [
    "def soma(n1, n2): \n",
    "    return n1 + n2\n",
    "def subtrai(n1, n2): \n",
    "    return n1 - n2\n",
    "def multiplica(n1, n2): \n",
    "    return n1 * n2\n",
    "def divide(n1 , n2): \n",
    "    return n1 / n2\n",
    "while True: \n",
    "    try: \n",
    "        print(\"+====================+\")\n",
    "        print(\"|  MENU DE OPERAÇÕES |\")\n",
    "        print(\"|  1 - Somar         |\")\n",
    "        print(\"|  2 - Subtrair      |\")\n",
    "        print(\"|  3 - Multiplicar   |\")\n",
    "        print(\"|  4 - Dividir       |\")\n",
    "        print(\"|  0 - Sair          |\")\n",
    "        print(\"+====================+\")\n",
    "\n",
    "        op = int(input()) \n",
    "        if op==0:\n",
    "            print(\"Você encerrou a calculadora!\")\n",
    "            break \n",
    "        if op == 1: \n",
    "            n1 = float(input(\"Primeiro número: \"))\n",
    "            n2 = float(input(\"Segundo número: \"))\n",
    "            print(\"O resultado da soma é: \", soma(n1, n2))\n",
    "            break\n",
    "        elif op == 2:\n",
    "            n1 = float(input(\"Primeiro número: \"))\n",
    "            n2 = float(input(\"Segundo número: \"))\n",
    "            print(\"O resultado da subtração é: \", subtrai(n1, n2))\n",
    "            break\n",
    "        elif op == 3:\n",
    "            n1 = float(input(\"Primeiro número: \"))\n",
    "            n2 = float(input(\"Segundo número: \"))\n",
    "            print(\"O resultado da multiplicação é: \", multiplica(n1, n2))\n",
    "            break\n",
    "        elif op == 4:\n",
    "            n1 = float(input(\"Primeiro número: \"))\n",
    "            n2 = float(input(\"Segundo número: \"))\n",
    "            print(\"O resultado da divisão é: \", divide(n1, n2))\n",
    "            break\n",
    "        elif op > 4: \n",
    "            raise ValueError \n",
    "    except ValueError: \n",
    "        print(\"Número inserido inválido!\")"
   ]
  }
 ],
 "metadata": {
  "kernelspec": {
   "display_name": "Python 3",
   "language": "python",
   "name": "python3"
  },
  "language_info": {
   "codemirror_mode": {
    "name": "ipython",
    "version": 3
   },
   "file_extension": ".py",
   "mimetype": "text/x-python",
   "name": "python",
   "nbconvert_exporter": "python",
   "pygments_lexer": "ipython3",
   "version": "3.11.9"
  }
 },
 "nbformat": 4,
 "nbformat_minor": 2
}
