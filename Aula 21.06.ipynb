{
 "cells": [
  {
   "cell_type": "markdown",
   "metadata": {},
   "source": [
    "Classe"
   ]
  },
  {
   "cell_type": "code",
   "execution_count": 4,
   "metadata": {},
   "outputs": [],
   "source": [
    "#criando uma classe \n",
    "class Animal():\n",
    "    #construtor de classe\n",
    "    def __init__(self, name, weight, colors):\n",
    "        #atributos\n",
    "        self.nome = name\n",
    "        self.peso = weight\n",
    "        self.corDoPelo = colors\n",
    "\n",
    "    def imprimirDados(self):\n",
    "        return(\"nome: %s \\nPeso: %s\" %(self.nome, self.peso))\n",
    "\n",
    "    def latir(self, barulho):\n",
    "        print(barulho)"
   ]
  },
  {
   "cell_type": "code",
   "execution_count": 5,
   "metadata": {},
   "outputs": [
    {
     "name": "stdout",
     "output_type": "stream",
     "text": [
      "nome: Marlene \n",
      "Peso: 7.9\n",
      "Au, Au!\n",
      "nome: Cibele \n",
      "Peso: 4.5\n",
      "Au, Au!\n"
     ]
    }
   ],
   "source": [
    "#instaciando um objeto cachorro\n",
    "caozinho = Animal(\"Marlene\", 7.9, \"Caramelo\")\n",
    "gato = Animal(\"Cibele\", 4.5, \"Cinza\")\n",
    "\n",
    "#chamando o método do objeto criado\n",
    "print(caozinho.imprimirDados())\n",
    "caozinho.latir(\"Au, Au!\")\n",
    "\n",
    "print(gato.imprimirDados())\n",
    "gato.latir(\"Au, Au!\")"
   ]
  },
  {
   "cell_type": "code",
   "execution_count": 6,
   "metadata": {},
   "outputs": [],
   "source": [
    "class Livro():\n",
    "\n",
    "    def __init__(self):\n",
    "\n",
    "        self.titulo = \"O Monge e o Executivo\"\n",
    "        self.isbn = 9988888\n",
    "        print(\"Construtor chamado para criar um onjeto desta classe\")\n",
    "\n",
    "    def imprime(self):\n",
    "        print(\"Foi criado o livro %s e ISBN %d\" %(self.titulo, self.isbn))\n"
   ]
  },
  {
   "cell_type": "code",
   "execution_count": 7,
   "metadata": {},
   "outputs": [
    {
     "name": "stdout",
     "output_type": "stream",
     "text": [
      "Construtor chamado para criar um onjeto desta classe\n"
     ]
    }
   ],
   "source": [
    "#criando uma instância da classe livro\n",
    "Livro1 = Livro()"
   ]
  },
  {
   "cell_type": "code",
   "execution_count": 8,
   "metadata": {},
   "outputs": [
    {
     "data": {
      "text/plain": [
       "__main__.Livro"
      ]
     },
     "execution_count": 8,
     "metadata": {},
     "output_type": "execute_result"
    }
   ],
   "source": [
    "#Tipo do objeto Livro1\n",
    "type(Livro1)"
   ]
  },
  {
   "cell_type": "code",
   "execution_count": 9,
   "metadata": {},
   "outputs": [
    {
     "data": {
      "text/plain": [
       "'O Monge e o Executivo'"
      ]
     },
     "execution_count": 9,
     "metadata": {},
     "output_type": "execute_result"
    }
   ],
   "source": [
    "#Atributo do objeto Livro1\n",
    "Livro1.titulo"
   ]
  },
  {
   "cell_type": "code",
   "execution_count": 10,
   "metadata": {},
   "outputs": [],
   "source": [
    "#metodo "
   ]
  },
  {
   "cell_type": "code",
   "execution_count": 11,
   "metadata": {},
   "outputs": [],
   "source": [
    "class Livro():\n",
    "    def __init__(self, titulo, isbn):\n",
    " \n",
    "        self.titulo = titulo\n",
    "        self.isbn = isbn\n",
    "        print(\"Construtor chamado para criar um objeto desta classe\")\n",
    "\n",
    "    def imprime(self, titulo, isbn):\n",
    "        print(\"Este é o livro %s e ISBN %d\" %(titulo, isbn))"
   ]
  },
  {
   "cell_type": "code",
   "execution_count": 12,
   "metadata": {},
   "outputs": [
    {
     "name": "stdout",
     "output_type": "stream",
     "text": [
      "Construtor chamado para criar um objeto desta classe\n"
     ]
    }
   ],
   "source": [
    "#criando o objeto Livro2 que é uma instância da classe Livro\n",
    "Livro2 = Livro(\"A menina que Roubava livros\", 77886611)"
   ]
  },
  {
   "cell_type": "code",
   "execution_count": 13,
   "metadata": {},
   "outputs": [],
   "source": [
    "class Pessoas():\n",
    "    def __init__(self, name, age):#variáveis da função\n",
    "        self.nome = name #atributo da classe\n",
    "        self.idade = age #atributo da classe\n",
    "\n",
    "    def nascimento(self,idade):#variável da função\n",
    "        return(2022-idade)#retorna o ano que a pessoa nasceu\n",
    "\n"
   ]
  },
  {
   "cell_type": "code",
   "execution_count": 14,
   "metadata": {},
   "outputs": [
    {
     "data": {
      "text/plain": [
       "1987"
      ]
     },
     "execution_count": 14,
     "metadata": {},
     "output_type": "execute_result"
    }
   ],
   "source": [
    "pessoa1 = Pessoas(\"Maria\", 35)\n",
    "pessoa1.nome\n",
    "pessoa1.idade\n",
    "pessoa1.nascimento(35)"
   ]
  },
  {
   "cell_type": "code",
   "execution_count": 15,
   "metadata": {},
   "outputs": [
    {
     "name": "stdout",
     "output_type": "stream",
     "text": [
      "Nome: Walison, idade: 10\n",
      "Nome: Rebeca , idade: 23\n",
      "Nome: renatha, idade: 30\n",
      "Nome: ricardo, idade: 36\n",
      "Nome: Adones, idade: 23\n"
     ]
    }
   ],
   "source": [
    "listaDePessoas=[]#criando lista vazia\n",
    "for i in range(5): #repetição de loop\n",
    "    nome = str(input(\"Nome: \"))#entrada de dados\n",
    "    idade = int(input(\"Idade: \"))#entrada de dados\n",
    "    pessoa = Pessoas(nome, idade)\n",
    "    listaDePessoas.append(pessoa)\n",
    "\n",
    "for objeto in range(len(listaDePessoas)):\n",
    "    print(\"Nome: %s, idade: %d\" %(listaDePessoas[objeto].nome, listaDePessoas[objeto].idade))"
   ]
  }
 ],
 "metadata": {
  "kernelspec": {
   "display_name": "Python 3",
   "language": "python",
   "name": "python3"
  },
  "language_info": {
   "codemirror_mode": {
    "name": "ipython",
    "version": 3
   },
   "file_extension": ".py",
   "mimetype": "text/x-python",
   "name": "python",
   "nbconvert_exporter": "python",
   "pygments_lexer": "ipython3",
   "version": "3.11.9"
  }
 },
 "nbformat": 4,
 "nbformat_minor": 2
}
