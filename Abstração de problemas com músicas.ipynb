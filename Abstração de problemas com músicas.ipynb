{
 "cells": [
  {
   "cell_type": "code",
   "execution_count": null,
   "metadata": {},
   "outputs": [],
   "source": [
    "for elefante in range(1, 11):\n",
    "    if elefante % 2 == 0:\n",
    "#Se o número do elefante for par, mostra a frase com \"muito mais\"\n",
    "        print(elefante, \"Elefante\", elefante * \"incomodam,\", \"muito mais\")\n",
    "    else:\n",
    "        if elefante == 1:\n",
    "#O primeiro elefante (quando elefante == 1) diz que \"Elefantes incomodam muita gente\"\n",
    "            print(elefante, \"Elefante incomodam muita gente\")\n",
    "        else:\n",
    "#Se o número do elefante for ímpar, mostra a frase padrão\n",
    "            print(elefante, \"Elefantes incomodam muito mais\")\n",
    "\n",
    "for elefante1 in range(10, 0, -1):\n",
    "    if elefante1 % 2 == 1:\n",
    "        if elefante1 == 1:\n",
    "#O último elefante (quando elefante1 == 1) diz que \"Elefantes incomodam muita gente\"\n",
    "            print(elefante1, \"Elefante incomodam muita gente\")\n",
    "        else:\n",
    "#Se o número do elefante for ímpar, mostra a frase com \"muito menos\"\n",
    "            print(elefante1, \"Elefante\", elefante1 * \"incomodam,\", \"muito menos\")\n",
    "    else:\n",
    "#Se o número do elefante for par, mostra a frase padrão\n",
    "        print(elefante1, \"Elefantes incomodam muito gente\")\n"
   ]
  },
  {
   "cell_type": "code",
   "execution_count": null,
   "metadata": {},
   "outputs": [],
   "source": [
    "for a in range(1, 11):\n",
    "    if a == 1:\n",
    "#Quando a é igual a 1, mostra a primeira linha\n",
    "        print(\"\\nMariana conta 1 \\nMariana conta 1: é 1, é 1, é! \\nAna, viva a Mariana, viva a Mariana\")\n",
    "    else:\n",
    "#Para outros valores de a, mostra a segunda linha\n",
    "        print(\"\\nMariana conta\", a)\n",
    "        print(\"Mariana conta\", a, end='')\n",
    "        for b in range(1, a + 1):\n",
    "#Mostra a sequência de números de 1 até a\n",
    "            print(\" é\", b, end='')\n",
    "        print(\" é\")\n",
    "        print(\"Ana, viva a Mariana, viva a Mariana\")"
   ]
  }
 ],
 "metadata": {
  "language_info": {
   "name": "python"
  }
 },
 "nbformat": 4,
 "nbformat_minor": 2
}
