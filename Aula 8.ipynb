{
 "cells": [
  {
   "cell_type": "code",
   "execution_count": null,
   "metadata": {},
   "outputs": [],
   "source": [
    "#2) Cria uma lita chamada minhaLista com os seguintes itens: 76, 92,3, \"oi\", True , 4, 76. Depois execute os seguintes comandos:\n",
    "#a)Inserir \"pitomba\" e 76 no final da lista.\n",
    "#b)Inserir o valor \"Cibele\" na posição de índice 3.\n",
    "#c)Inserir o valor 99 no índice da lista\n",
    "#d)Encontrar o índice de \"oi\".\n",
    "#e)Remover True da lista. "
   ]
  },
  {
   "cell_type": "code",
   "execution_count": 4,
   "metadata": {},
   "outputs": [
    {
     "name": "stdout",
     "output_type": "stream",
     "text": [
      "[76, 92.3, 'oi', True, 4, 76, 'pitoma', 76]\n"
     ]
    }
   ],
   "source": [
    "#a)Inserir \"pitomba\" e 76 no final da lista.\n",
    "minhaLista=[76, 92.3, \"oi\", True, 4, 76]\n",
    "minhaLista1=[\"pitoma\", 76]\n",
    "print(minhaLista+minhaLista1)"
   ]
  },
  {
   "cell_type": "code",
   "execution_count": 5,
   "metadata": {},
   "outputs": [
    {
     "name": "stdout",
     "output_type": "stream",
     "text": [
      "[76, 92.3, 'oi', 'Cibele', 4, 76]\n"
     ]
    }
   ],
   "source": [
    "#b)Inserir o valor \"Cibele\" na posição de índice 3.\n",
    "minhaLista=[76, 92.3, \"oi\", True, 4, 76]\n",
    "minhaLista[3]=\"Cibele\"\n",
    "print(minhaLista)"
   ]
  },
  {
   "cell_type": "code",
   "execution_count": 13,
   "metadata": {},
   "outputs": [
    {
     "name": "stdout",
     "output_type": "stream",
     "text": [
      "[99, 76, 92.3, 'oi', True, 4, 76]\n"
     ]
    }
   ],
   "source": [
    "#c)Inserir o valor 99 no índice da lista\n",
    "minhaLista=[76, 92.3, \"oi\", True, 4, 76]\n",
    "minhaLista2=[99]\n",
    "print(minhaLista2[:]+ minhaLista[:])"
   ]
  },
  {
   "cell_type": "code",
   "execution_count": 18,
   "metadata": {},
   "outputs": [
    {
     "name": "stdout",
     "output_type": "stream",
     "text": [
      "Índice: 2  é 'oi'\n"
     ]
    }
   ],
   "source": [
    "#d)Encontrar o índice de \"oi\".\n",
    "minhaLista=[76, 92.3, \"oi\", True, 4, 76]\n",
    "\n",
    "if (minhaLista[0]==\"oi\"):\n",
    "    print(\"Índice: 0 é'oi'.\")\n",
    "elif (minhaLista[1]==\"oi\"):\n",
    "    print(\"Índice: 1 é 'oi'.\")\n",
    "elif (minhaLista[2]==\"oi\"):\n",
    "    print(\"Índice: 2  é 'oi'.\")\n",
    "elif (minhaLista[3]==\"oi\"):\n",
    "    print(\"Índice: 3  é 'oi'.\")\n",
    "elif (minhaLista[4]==\"oi\"):\n",
    "    print(\"Índice: 4  é 'oi'.\")\n",
    "elif (minhaLista[5]==\"oi\"):\n",
    "    print(\"Índice: 5  é 'oi'.\")\n",
    "else:\n",
    "    print(\"não existe o índice com o elemento 'oi' \")"
   ]
  },
  {
   "cell_type": "code",
   "execution_count": 14,
   "metadata": {},
   "outputs": [
    {
     "name": "stdout",
     "output_type": "stream",
     "text": [
      "[76, 92.3, 'oi', 4, 76]\n"
     ]
    }
   ],
   "source": [
    "#e)Remover True da lista. \n",
    "minhaLista=[76, 92.3, \"oi\", True, 4, 76]\n",
    "print(minhaLista[:3]+minhaLista[4:])\n"
   ]
  },
  {
   "cell_type": "code",
   "execution_count": 19,
   "metadata": {},
   "outputs": [
    {
     "name": "stdout",
     "output_type": "stream",
     "text": [
      "[4.2, 8, 6, 5, 'Cibele']\n"
     ]
    }
   ],
   "source": [
    "#lista\n",
    "uma_lista=[4.2,8,6,5]\n",
    "#adicionando 'Cibele'.\n",
    "uma_lista=uma_lista + [\"Cibele\"]\n",
    "#imprima.\n",
    "print(uma_lista)\n"
   ]
  }
 ],
 "metadata": {
  "kernelspec": {
   "display_name": "Python 3",
   "language": "python",
   "name": "python3"
  },
  "language_info": {
   "codemirror_mode": {
    "name": "ipython",
    "version": 3
   },
   "file_extension": ".py",
   "mimetype": "text/x-python",
   "name": "python",
   "nbconvert_exporter": "python",
   "pygments_lexer": "ipython3",
   "version": "3.10.11"
  }
 },
 "nbformat": 4,
 "nbformat_minor": 2
}
