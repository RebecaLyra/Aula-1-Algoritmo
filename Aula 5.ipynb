{
 "cells": [
  {
   "cell_type": "code",
   "execution_count": 18,
   "metadata": {},
   "outputs": [
    {
     "name": "stdout",
     "output_type": "stream",
     "text": [
      "5\n"
     ]
    }
   ],
   "source": [
    "#faça um programa que peça um número e então mostre a mensagem 'o número informado foi' seguida do número\n",
    "valor_int= int(input(\"Digite um número\"))\n",
    "print(\"o número informado foi:\", valor_int)"
   ]
  },
  {
   "cell_type": "code",
   "execution_count": 10,
   "metadata": {},
   "outputs": [
    {
     "name": "stdout",
     "output_type": "stream",
     "text": [
      "15\n"
     ]
    }
   ],
   "source": [
    "#faça umprograma que peça dois números e imprima a soma\n",
    "valor_int2= int(input(\"Digite um número\"))\n",
    "valor_int3= int(input(\"Digite outro número\"))\n",
    "somar= valor_int2 + valor_int3\n",
    "print(soma)"
   ]
  },
  {
   "cell_type": "code",
   "execution_count": 17,
   "metadata": {},
   "outputs": [
    {
     "name": "stdout",
     "output_type": "stream",
     "text": [
      "4.666666666666667\n"
     ]
    }
   ],
   "source": [
    "#faça um programa que peça 3 notas e mostre a média\n",
    "valor_int4= int(input(\"Digite um número\"))\n",
    "valor_int5= int(input(\"Digite outro número\"))\n",
    "valor_int6= int(input(\"Digie um terceiro número\"))\n",
    "media= (valor_int4+ valor_int5+ valor_int6)/3\n",
    "print(media)\n"
   ]
  },
  {
   "cell_type": "code",
   "execution_count": null,
   "metadata": {},
   "outputs": [],
   "source": [
    "#faça um programa que peça 3 notas e mostre a média(correção)\n",
    "valor_int4= float(input(\"Digite um número\"))\n",
    "valor_int5= float(input(\"Digite outro número\"))\n",
    "valor_int6= float(input(\"Digie um terceiro número\"))\n",
    "media= (valor_int4+ valor_int5+ valor_int6)/3\n",
    "print(media)\n",
    "#float para aceitar uma maior variedade de números"
   ]
  },
  {
   "cell_type": "code",
   "execution_count": 24,
   "metadata": {},
   "outputs": [
    {
     "name": "stdout",
     "output_type": "stream",
     "text": [
      "400.0\n"
     ]
    }
   ],
   "source": [
    "#faça um programa que pergunte quanto você ganha por hora e o número de horas trabalhadas no mês. Calcule e mostre o total do seu sálario no referido mês\n",
    "ganho_hora=float(input(\"Quanto você ganha por hora?\"))\n",
    "numero_horas=float(input(\"Qual o seu número de horas trabalhadas por mês?\"))\n",
    "salario= (ganho_hora* numero_horas)\n",
    "print(salario)\n"
   ]
  },
  {
   "cell_type": "code",
   "execution_count": 26,
   "metadata": {},
   "outputs": [
    {
     "name": "stdout",
     "output_type": "stream",
     "text": [
      "O excesso de peso é:  10.0\n",
      "O valor da multa a pagar é: 40.0\n"
     ]
    }
   ],
   "source": [
    "#Ler o peso dos peixes\n",
    "peso_peixes= float(input(\"Qual o peso dos seus peixes?\"))\n",
    "#Verificar se há excesso de peso\n",
    "if (peso_peixes <= 50):\n",
    "    print(\"Nenhuma multa a pagar.\")\n",
    "else:\n",
    "    #Calcular o excesso de peso\n",
    "   excesso = peso_peixes - 50\n",
    "   print(\"O excesso de peso é: \", excesso)\n",
    "    #Calcular o valor da multa\n",
    "   multa = excesso * 4\n",
    "    #Exibir a multa a pagar\n",
    "   print(\"O valor da multa a pagar é:\", multa)"
   ]
  }
 ],
 "metadata": {
  "kernelspec": {
   "display_name": "Python 3",
   "language": "python",
   "name": "python3"
  },
  "language_info": {
   "codemirror_mode": {
    "name": "ipython",
    "version": 3
   },
   "file_extension": ".py",
   "mimetype": "text/x-python",
   "name": "python",
   "nbconvert_exporter": "python",
   "pygments_lexer": "ipython3",
   "version": "3.10.2"
  }
 },
 "nbformat": 4,
 "nbformat_minor": 2
}
