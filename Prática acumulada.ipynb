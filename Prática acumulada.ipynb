{
 "cells": [
  {
   "cell_type": "markdown",
   "metadata": {},
   "source": [
    "1. Faça um programa que verifique se uma letra digitada é vogal ou consoante."
   ]
  },
  {
   "cell_type": "code",
   "execution_count": 15,
   "metadata": {},
   "outputs": [
    {
     "name": "stdout",
     "output_type": "stream",
     "text": [
      "A letra é uma vogal\n"
     ]
    }
   ],
   "source": [
    "#Listas de vogais e números para verificação\n",
    "vogais = ['a', 'e', 'i', 'o', 'u', 'A', 'E', 'I', 'O', 'U']\n",
    "numero = ['0', '1', '2', '3', '4', '5', '6', '7', '8', '9']\n",
    "\n",
    "#Pedir ao usuário para digitar uma letra\n",
    "letra = input(\"Digite a letra: \")\n",
    "#Verifica se a entrada é uma vogal\n",
    "if letra in vogais:\n",
    "    print(\"A letra é uma vogal\")\n",
    "#Verifica se a entrada é uma consoante\n",
    "elif len(letra) == 1:\n",
    "    print(\"A letra é uma consoante\")\n",
    "\n"
   ]
  },
  {
   "cell_type": "markdown",
   "metadata": {},
   "source": [
    "2. Faça um programa que pergunte o preço de três produtos e informe qual produto você deve comprar, sabendo que a desisão é sempre pelo mais barato."
   ]
  },
  {
   "cell_type": "code",
   "execution_count": 16,
   "metadata": {},
   "outputs": [
    {
     "name": "stdout",
     "output_type": "stream",
     "text": [
      "Voce deve comprar o primeiro produto, que custa R$ 10.0\n"
     ]
    }
   ],
   "source": [
    "#Pede ao usuário para digitar o preço dos três produtos\n",
    "preco1 = float(input(\"Digite o preço do primeiro produto: \"))\n",
    "preco2 = float(input(\"Digite o preço do segundo produto: \"))\n",
    "preco3 = float(input(\"Digite o preço do terceiro produto: \"))\n",
    "#Inicializa a variável 'menor_preco' com o preço do primeiro produto\n",
    "menor_preco = preco1\n",
    "produto = 'primeiro'\n",
    "#Compara o preço do segundo produto com o 'menor_preco'\n",
    "if preco2 < menor_preco:\n",
    "    menor_preco = preco2\n",
    "    produto = 'segundo'\n",
    "#Compara o preço do terceiro produto com o 'menor_preco'\n",
    "if preco3 < menor_preco:\n",
    "    menor_preco = preco3\n",
    "    produto = 'terceiro'\n",
    "#Informa ao usuário qual produto ele deve comprar\n",
    "print(\"Voce deve comprar o \" + produto + \" produto, que custa R$\", menor_preco)"
   ]
  },
  {
   "cell_type": "markdown",
   "metadata": {},
   "source": [
    "3. Faça um programa que leia três números e mostre-os em ordem decrescente."
   ]
  },
  {
   "cell_type": "code",
   "execution_count": 19,
   "metadata": {},
   "outputs": [
    {
     "name": "stdout",
     "output_type": "stream",
     "text": [
      "46.0 \n",
      " 8.0 \n",
      " 5.0\n"
     ]
    }
   ],
   "source": [
    "#Pede ao usuário o número\n",
    "n1 = float(input(\"me diga um número\"))\n",
    "n2 = float(input(\"me diga outro número\"))\n",
    "n3 = float(input(\"me diga outro número\"))\n",
    "#Verificação da ordem\n",
    "if (n1 > n2) and (n1 > n3) and (n2 > n3):\n",
    "    print (n1,\"\\n\", n2, \"\\n\" ,n3)\n",
    "elif (n1 > n2) and (n1 > n3) and (n3 > n2):\n",
    "    print (n1,\"\\n\", n3, \"\\n\" ,n2)\n",
    "elif (n2 > n1) and (n2 > n3) and (n3 > n1):\n",
    "    print (n2,\"\\n\", n3, \"\\n\" ,n1)\n",
    "elif (n2 > n1) and (n2 > n3) and (n1 > n3):\n",
    "    print (n2,\"\\n\", n1, \"\\n\" ,n3)\n",
    "elif (n3 > n1) and (n3 > n2) and (n2 > n1):\n",
    "    print (n3,\"\\n\", n2, \"\\n\" ,n1)\n",
    "else:\n",
    "    print (n3,\"\\n\", n1, \"\\n\" ,n2)"
   ]
  },
  {
   "cell_type": "markdown",
   "metadata": {},
   "source": [
    "4. Faça um programa que pergunte em que turno você estuda. Peça para digitar M-matutino, V-vespertino ou N-noturno. Impreima a mensagem \"Bom dia!\",\"Boa tarde!\" ou \"Boa noite!\" ou \"Valor inválido!\", conforme o caso."
   ]
  },
  {
   "cell_type": "code",
   "execution_count": 21,
   "metadata": {},
   "outputs": [
    {
     "name": "stdout",
     "output_type": "stream",
     "text": [
      "Boa Noite\n"
     ]
    }
   ],
   "source": [
    "#Dicionário que associa a letra a saudação\n",
    "dic = {'M':'Bom Dia','V':'Boa Tarde','N':'Boa Noite'}\n",
    "#Lista das letras de cada turno\n",
    "lista = ['M', 'V', 'N', 'm', 'v', 'n']\n",
    "#Pede ao usuário para digitar a letra\n",
    "turno = input(\"Digite seu turno M-Matutino, V-Vespertino, N-Noite\")\n",
    "#Verifica se o turno digitado está presente na lista e responde ao asuário\n",
    "if turno in lista:\n",
    "    resposta = dic[turno]\n",
    "    print(resposta)\n",
    "#Se o turno não estiver na lista, informa que a resposta é inválida\n",
    "else:\n",
    "    print(\"Resposta Invalida\")"
   ]
  },
  {
   "cell_type": "markdown",
   "metadata": {},
   "source": [
    "5. Faça um programa que leia um número e exiba o dia correspondente da semana. (1- Domingo,2-Segunda, etc). Se for digitado outro valor deve retornar uma mensagem informando valor inválido."
   ]
  },
  {
   "cell_type": "code",
   "execution_count": 33,
   "metadata": {},
   "outputs": [
    {
     "name": "stdout",
     "output_type": "stream",
     "text": [
      "Hoje é Quinta\n"
     ]
    }
   ],
   "source": [
    "#Pede para o usuário digitar o dia da semana\n",
    "semana = input(\"Digite o dia da semana sendo 1-Domingo, 2- Segunda, etc\")\n",
    "#Verificação do valor\n",
    "if (semana == \"1\"):\n",
    "    print(\"Hoje é Domingo\")\n",
    "elif (semana == \"2\"):\n",
    "    print(\"Hoje é Segunda\")\n",
    "elif (semana == \"3\"):\n",
    "    print(\"Hoje é Terça\")\n",
    "elif (semana == \"4\"):\n",
    "    print(\"Hoje é Quarta\")\n",
    "elif (semana == \"5\"):\n",
    "    print(\"Hoje é Quinta\")\n",
    "elif (semana == \"6\"):\n",
    "    print(\"Hoje é Sexta\")\n",
    "elif (semana == \"7\"):\n",
    "    print(\"Hoje é Sábado\")\n",
    "else:\n",
    "    print(\"Valor Inválido!\")\n"
   ]
  },
  {
   "cell_type": "markdown",
   "metadata": {},
   "source": [
    "5. Faça um programa que lê as duas notas parciais obtidas por um aluno numa disciplina ao longo de uma semestre, e calcule a sua média. A atribuição de conceitos obedece as regras: O programa deve monstrar na tela as notas, a média, o conceito correspondente e a mensagem \"APROVADO\" se o conceito for A, B ou C ou \"REPROVADO\" se o conceito for D ou E."
   ]
  },
  {
   "cell_type": "code",
   "execution_count": 22,
   "metadata": {},
   "outputs": [
    {
     "name": "stdout",
     "output_type": "stream",
     "text": [
      "\n",
      " 5.0 + 9.0 = 7.0 \n",
      " Sua média foi: 7.0 \n",
      " Seu conceito foi C.\n",
      " Parabéns você foi APROVADO!!! \n"
     ]
    }
   ],
   "source": [
    "#Solicita ao usuário para digitar a primeira nota e converte para float\n",
    "nota1 = float(input(\"Digite sua primeira nota:\"))\n",
    "#Solicita ao usuário para digitar a segunda nota e converte para float\n",
    "nota2 = float(input(\"Digite sua segunda nota:\"))\n",
    "#Calcula a média das duas notas\n",
    "media = (nota1 + nota2) / 2\n",
    "#Verifica a média\n",
    "if media >= 9.0 and media <= 10.0:\n",
    "    print(\"\\n\",nota1, \"+\",nota2,\"=\",media, \"\\n Sua média foi:\",media, \"\\n Seu conceito foi A.\" \"\\n Parabéns você foi APROVADO!!! \")\n",
    "elif media >= 7.5 and media <= 8.9:\n",
    "    print(\"\\n\",nota1, \"+\",nota2,\"=\",media, \"\\n Sua média foi:\",media, \"\\n Seu conceito foi B.\" \"\\n Parabéns você foi APROVADO!!! \")\n",
    "elif media >= 6.0 and media <= 7.4:\n",
    "    print(\"\\n\",nota1, \"+\",nota2,\"=\",media, \"\\n Sua média foi:\",media, \"\\n Seu conceito foi C.\" \"\\n Parabéns você foi APROVADO!!! \")\n",
    "elif media >= 4.0 and media <= 5.9:\n",
    "    print(\"\\n\",nota1, \"+\",nota2,\"=\",media, \"\\n Sua média foi:\",media, \"\\n Seu conceito foi D.\" \"\\n Você foi REPROVADO!!!! \")\n",
    "else:\n",
    "    print(\"\\n\",nota1, \"+\",nota2,\"=\",media, \"\\n Sua média foi:\",media, \"\\n Seu conceito foi E.\" \"\\n Você foi REPROVADO!!!! \")\n"
   ]
  },
  {
   "cell_type": "code",
   "execution_count": null,
   "metadata": {},
   "outputs": [],
   "source": [
    "6. Faça um programa que peça um número correspondente a um determinado ano e em seguida informe se este ano é ou não bissextos."
   ]
  },
  {
   "cell_type": "code",
   "execution_count": 32,
   "metadata": {},
   "outputs": [
    {
     "name": "stdout",
     "output_type": "stream",
     "text": [
      "Não é bissexto\n"
     ]
    }
   ],
   "source": [
    "#Peça ao usuário para digitar o ano\n",
    "ano = int(input(\"Digite o ano\"))\n",
    "#Verifica se o ano é divisível por 4\n",
    "if(ano % 4 == 0):\n",
    "    print(\"Ano bissexto\")\n",
    "else:\n",
    "    print(\"Não é bissexto\")"
   ]
  },
  {
   "cell_type": "code",
   "execution_count": null,
   "metadata": {},
   "outputs": [],
   "source": [
    "7. Faça um Programa que leia 2 números e em seguida pergunte ao usuário qual operação básica (soma, subtração, multiplicação, divisão, exponenciação) \n",
    "ele deseja realizar.O resultado da operação deve ser acompanhado de uma frase que diga se o número é: par ou ímpar, positivo ou negativo; inteiro ou \n",
    "decimal."
   ]
  },
  {
   "cell_type": "code",
   "execution_count": 26,
   "metadata": {},
   "outputs": [
    {
     "name": "stdout",
     "output_type": "stream",
     "text": [
      "Operador errado\n"
     ]
    }
   ],
   "source": [
    "#Pede ao usuário que insira o primeiro número e o converte para float\n",
    "num1 = float(input(f\"Digite o primeiro numero\"))\n",
    "#Pede ao usuário que escolha a operação a ser realizada\n",
    "calc = input(\"Digite a operação + \\n - \\n x \\n / ** \\n\") \n",
    "#Pede ao usuário que insira o segundo número e o converte para float\n",
    "num2 = float(input(f\"Digite o segundo numero\"))\n",
    "#Verifica se a operação escolhida é soma\n",
    "if(calc == '+'):\n",
    "#Realiza a soma dos números\n",
    "    resultado = num1 + num2\n",
    "    if resultado % 2 == 0 and resultado > 0 and resultado % 1 == 0:\n",
    "        print(f\"O resultado de {num1} + {num2} = {num1+num2}, O numero é par,positivo e inteiro\")\n",
    "#Verifica se a operação escolhida é subtração\n",
    "elif calc == '-':\n",
    "#Realiza a subtração dos números\n",
    "    resultado = num1-num2\n",
    "    if(resultado % 2 == 0 and resultado > 0 and resultado % 1 == 0):\n",
    "        print(f\"O resultado de {num1} - {num2} = {num1-num2}, O numero é par,positivo e inteiro\")\n",
    "#Verifica se a operação escolhida é multiplicação\n",
    "elif calc == 'x':\n",
    "    # Realiza a multiplicação dos números\n",
    "    resultado = num1*num2\n",
    "    if(resultado % 2 == 0 and resultado > 0 and resultado % 1 == 0):\n",
    "        print(f\"O resultado de {num1} x {num2} = {num1*num2}, O numero é par,positivo e inteiro\")    \n",
    "#Verifica se a operação escolhida é divisão\n",
    "elif calc == '/':\n",
    "    # Realiza a divisão dos números\n",
    "    resultado = num1/num2\n",
    "    if(resultado % 2 == 0 and resultado > 0 and resultado % 1 == 0):\n",
    "        print(f\"O resultado de {num1} / {num2} = {num1/num2}, O numero é par,positivo e inteiro\")\n",
    "elif calc == '**':\n",
    "    resultado = num1**num2\n",
    "    if(resultado % 2 == 0 and resultado > 0 and resultado % 1 == 0):\n",
    "        print(f\"O resultado de {num1} / {num2} = {num1/num2}, O numero é par,positivo e inteiro\")\n",
    "#Caso a operação escolhida não seja válida\n",
    "else:\n",
    "    print(\"Operador errado\")\n"
   ]
  },
  {
   "cell_type": "code",
   "execution_count": null,
   "metadata": {},
   "outputs": [],
   "source": [
    "8. Faça um programa que peça a idade e exiba a informação. Os valores aceitáveis devem estar entre 0 e 150. Valores fora desse limite não poderão ser \n",
    "aceitos.\n"
   ]
  },
  {
   "cell_type": "code",
   "execution_count": 24,
   "metadata": {},
   "outputs": [
    {
     "name": "stdout",
     "output_type": "stream",
     "text": [
      "Valor Inválido!\n"
     ]
    }
   ],
   "source": [
    "#Pede ao usuário que digite a sua idade e armazena como um número inteiro\n",
    "idade = int(input(\"Por favor diga a sua idade: \"))\n",
    "#Verifica se a idade inserida é maior que 0 e menor que 18\n",
    "if idade > 0 and idade < 18:\n",
    "#Imprime a idade do usuário com uma mensagem\n",
    "    print(f\"Você tem {idade} anos de idade\")\n",
    "else:\n",
    "#Imprime uma mensagem de erro\n",
    "    print(\"Valor Inválido!\")\n"
   ]
  },
  {
   "cell_type": "markdown",
   "metadata": {},
   "source": [
    "9. Utilizando estruturas de repetição e listas (com ou sem .append), faça um programa que leia 5 números e informe a soma e a média dos números."
   ]
  },
  {
   "cell_type": "code",
   "execution_count": 25,
   "metadata": {},
   "outputs": [
    {
     "name": "stdout",
     "output_type": "stream",
     "text": [
      "Soma dos números = 30.0, \n",
      "A média dos números = 6.0\n"
     ]
    }
   ],
   "source": [
    "soma = 0\n",
    "#Cria um loop\n",
    "for num in range(5):\n",
    "#Pede ao usuário que digite um número\n",
    "    num = float(input('Digite os números desejados: '))\n",
    "    soma += num \n",
    "#Calcula a média dividindo a soma total pelo número de termos (5)\n",
    "media = soma / 5\n",
    "#Mostra a soma dos números e a média\n",
    "print(f'Soma dos números = {soma}, \\nA média dos números = {media}')\n"
   ]
  },
  {
   "cell_type": "code",
   "execution_count": null,
   "metadata": {},
   "outputs": [],
   "source": [
    "10. Faça um programa que peça um número inteiro e determine se ele é ou não um número primo. Um número primo é aquele que é divisível somente por ele \n",
    "mesmo e por 1."
   ]
  },
  {
   "cell_type": "code",
   "execution_count": 31,
   "metadata": {},
   "outputs": [
    {
     "name": "stdout",
     "output_type": "stream",
     "text": [
      "Seu numero primo = 5\n"
     ]
    }
   ],
   "source": [
    "contadora = 0\n",
    "#Pede ao usuário que digite um número inteiro\n",
    "numInt = int(input('Digite um número inteiro:'))\n",
    "#Cria um loop\n",
    "for primo in range (1, numInt+1):\n",
    "    if numInt % primo == 0:\n",
    "        contadora +=1\n",
    "#Verifica se o número de divisores é exatamente 2\n",
    "if contadora == 2:\n",
    "#Se for, imprime que o número é primo\n",
    "    print(f'Seu numero primo = {numInt}')\n",
    "else:\n",
    "#Se não for, imprime que o número não é primo\n",
    "    print(f'Esse número não é primo {numInt}')"
   ]
  },
  {
   "cell_type": "code",
   "execution_count": null,
   "metadata": {},
   "outputs": [],
   "source": [
    "11. O Departamento Estadual de Meteorologia lhe contratou para desenvolver um programa que leia 5 temperaturas, e informe ao final a menor e a maior \n",
    "temperaturas informadas, bem como a média das temperaturas."
   ]
  },
  {
   "cell_type": "code",
   "execution_count": 30,
   "metadata": {},
   "outputs": [
    {
     "name": "stdout",
     "output_type": "stream",
     "text": [
      "Sua temperatura média é: 14.6 °C\n",
      "Sua temperatura maior é: 18.0 °C\n",
      "Sua temperatura menor é: 13.0 °C\n"
     ]
    }
   ],
   "source": [
    "soma = 0\n",
    "#Cria um loop que irá iterar 5 vezes para coletar 5 temperaturas\n",
    "for i in range(5):\n",
    "#Pede ao usuário que digite uma temperatura\n",
    "    temp = float(input('Digite uma temperatura:'))\n",
    "# Adiciona a temperatura digitada à variável 'soma'\n",
    "    soma += temp\n",
    "    if i == 0:\n",
    "        menor = maior = temp\n",
    "#Se a temperatura digitada for maior que a atual 'maior', atualiza 'maior'\n",
    "    if temp > maior:\n",
    "        maior = temp\n",
    "#Se a temperatura digitada for menor que a atual 'menor', atualiza 'menor'\n",
    "    if temp < menor:\n",
    "        menor = temp\n",
    "#Calcula a média dividindo a soma total pelo número de temperaturas (5)\n",
    "media = soma / 5\n",
    "#Imprime a soma das temperaturas, a temperatura média, a maior e a menor temperatura\n",
    "print(f\"Sua temperatura média é: {media} °C\")\n",
    "print(f\"Sua temperatura maior é: {maior} °C\")\n",
    "print(f\"Sua temperatura menor é: {menor} °C\")"
   ]
  },
  {
   "cell_type": "markdown",
   "metadata": {},
   "source": [
    "12. Um banco concederá um crédito especial aos seus clientes, variável com o saldo médio no último ano. Faça um algoritmo que leia o saldo médio de um cliente e calcule o valor do crédito de acordo com a tabela abaixo. Mostre uma mensagem informando o saldo médio e o valor do crédito.\n",
    "\n",
    "Saldo médio\tPercentual\n",
    "de 0 a 200\tnenhum crédito\n",
    "de 201 a 400\t20% do valor do saldo médio\n",
    "de 401 a 600\t30% do valor do saldo médio\n",
    "acima de 601\t40% do valor do saldo médio"
   ]
  },
  {
   "cell_type": "code",
   "execution_count": 27,
   "metadata": {},
   "outputs": [
    {
     "name": "stdout",
     "output_type": "stream",
     "text": [
      "Nenhum crédito\n"
     ]
    }
   ],
   "source": [
    "total = 0\n",
    "#Pede ao usuário que digite o saldo médio e o converte para float\n",
    "saldoMedio = float(input('Digite o saldo medio'))\n",
    "#Verifica se o saldo médio está entre 0 e 200\n",
    "if saldoMedio > 0 and saldoMedio <= 200:\n",
    "#Se estiver, informa que não há crédito\n",
    "    print('Nenhum crédito')\n",
    "#Verifica se o saldo médio está entre 200 e 400\n",
    "elif saldoMedio > 200 and saldoMedio <= 400:\n",
    "#Calcula o crédito como 20% do saldo médio\n",
    "    total = (saldoMedio*0.20)\n",
    "#Imprime o saldo médio e o valor de crédito correspondente\n",
    "    print(f'O saldo médio é igual a R$ {saldoMedio} e o valor de crédito é R$ {total}')\n",
    "#Verifica se o saldo médio está entre 400 e 600\n",
    "elif saldoMedio > 400 and saldoMedio <= 600:\n",
    "#Calcula o crédito como 30% do saldo médio\n",
    "    total = (saldoMedio*0.30)\n",
    "#Imprime o saldo médio e o valor de crédito correspondente\n",
    "    print(f'O saldo médio é igual a R$ {saldoMedio} e o valor de crédito é R$ {total}')\n",
    "#Verifica se o saldo médio é maior que 600\n",
    "elif saldoMedio > 600:\n",
    "#Calcula o crédito como 40% do saldo médio\n",
    "    total = (saldoMedio*0.40)\n",
    "#Imprime o saldo médio e o valor de crédito correspondente\n",
    "    print(f'O saldo médio é igual a R$ {saldoMedio} e o valor de crédito é R$ {total}')\n"
   ]
  },
  {
   "cell_type": "markdown",
   "metadata": {},
   "source": [
    "13. Você foi contratado(a) para fazer um serviço para o INSS (Instituto Nacional do Seguro Social) do Brasil. O trabalho consiste em criar um programa que diga à pessoa o ano que ela poderá se aposentar. Você deve perguntar à pessoa, o nome, a idade e criar uma mensagem dizendo em qual ano ela irá se aposentar. Considere que todas as pessoas poderão se aposentar aos 65 anos de idade(rs)."
   ]
  },
  {
   "cell_type": "code",
   "execution_count": 29,
   "metadata": {},
   "outputs": [
    {
     "name": "stdout",
     "output_type": "stream",
     "text": [
      "Nome: Rebeca / Idade: 23\n",
      "Rebeca você irá se aposentar em 2066.\n"
     ]
    }
   ],
   "source": [
    "#Pede ao usuário que digite seu nome\n",
    "nome = input('Qual o seu nome? ')\n",
    "#pede ao usuário que digite sua idade\n",
    "idade = int(input('Qual a sua idade? '))\n",
    "#Calcula o ano de aposentadoria\n",
    "ano = str((2024 - idade) + 65)\n",
    "#Imprime o nome e a idade do usuário\n",
    "print(f'Nome: {nome} / Idade: {idade}')\n",
    "#Imprime o ano em que o usuário irá se aposentar\n",
    "print(f'{nome} você irá se aposentar em {ano}.')\n"
   ]
  },
  {
   "cell_type": "markdown",
   "metadata": {},
   "source": [
    "14. Faça um programa para o cálculo de uma folha de pagamento, sabendo que os descontos são do imposto de Renda, que depende do salário bruto (conforme tabela abaixo), 3% para o Sindicato e que o FGTS corresponde a 11% do salário bruto, mas não é descontado (é a empresa que deposita). O salário líquido corresponde ao salário bruto menos os descontos. O programa deverá pedir ao usuário o valor da sua hora e a quantidade de horas trabalhadas no mês.\n",
    "\n",
    "Desconto do IR:\n",
    "Salário Bruto até R$ 2.112,00(inclusive) – Isento;\n",
    "De 2.112,01 até 2.826,65(inclusive) – desconto de 7.5%;\n",
    "De 2.826,66 até 3.751,05(inclusive) – desconto de 15%;\n",
    "De 3.751,06 até 4.664,68(inclusive) – desconto de 22.5%;\n",
    "Acima de 4.664,68 – desconto de 27.5%."
   ]
  },
  {
   "cell_type": "code",
   "execution_count": 28,
   "metadata": {},
   "outputs": [
    {
     "name": "stdout",
     "output_type": "stream",
     "text": [
      "\n",
      " Seu salário é: R$ 200.0 \n",
      " Insento de Imposto de Renda.\n"
     ]
    }
   ],
   "source": [
    "#Pede ao usuário que informe quanto ganha por hora e armazena como um número flutuante\n",
    "valor = float(input('Quanto você ganha por hora?'))\n",
    "#Pede ao usuário que informe quantas horas trabalha por mês e armazena como um número inteiro\n",
    "hora = int(input('Quantas horas você trabalha por mês?'))\n",
    "#Calcula o salário multiplicando o valor ganho por hora pelo número de horas trabalhadas\n",
    "salario = (valor * hora)\n",
    "#Calcula o salário bruto aplicando um desconto de 3% sobre o salário calculado\n",
    "bruto = salario - (salario*0.03)\n",
    "#Verifica se o salário está entre 0 e 2111.99\n",
    "if salario >= 0 and salario <= 2111.99:\n",
    "    print(f\"\\n Seu salário é: R$ {salario} \\n Insento de Imposto de Renda.\")\n",
    "\n",
    "#Verifica se o salário está entre 2112.00 e 2826.64\n",
    "elif salario >= 2112.00 and salario <= 2826.64:\n",
    "    total = bruto - (bruto*(7.5/100))\n",
    "    print(f\"\\n Seu salário é: R$ {salario} \\n Você obteve 7,5% de desconto! \\n Total do desconto: R$ {total}.\")\n",
    "#Verifica se o salário está entre 2826.65 e 3751.05\n",
    "elif salario >= 2826.65 and salario <= 3751.05:\n",
    "    total = bruto - (bruto*(15/100))\n",
    "    print(f\"\\n Seu salário é: R$ {salario} \\n Você obteve 15% de desconto! \\n Total do desconto: R$ {total}.\")\n",
    "#Verifica se o salário está entre 3751.06 e 4663.68\n",
    "elif salario >= 3751.06 and salario <= 4663.68:\n",
    "    total = bruto - (bruto*(22.5/100))\n",
    "    print(f\"\\n Seu salário é: R$ {salario} \\n Você obteve 22,5% de desconto! \\n Total do desconto: R$ {total}.\")\n",
    "#Se o salário for maior que 4663.68\n",
    "else:\n",
    "    total = bruto - (bruto*(27.5/100))\n",
    "    print(f\"\\n Seu salário é: R$ {salario} \\n Você obteve 27,5% de desconto! \\n Total do desconto: R$ {total}.\")\n"
   ]
  }
 ],
 "metadata": {
  "kernelspec": {
   "display_name": "Python 3",
   "language": "python",
   "name": "python3"
  },
  "language_info": {
   "codemirror_mode": {
    "name": "ipython",
    "version": 3
   },
   "file_extension": ".py",
   "mimetype": "text/x-python",
   "name": "python",
   "nbconvert_exporter": "python",
   "pygments_lexer": "ipython3",
   "version": "3.11.9"
  }
 },
 "nbformat": 4,
 "nbformat_minor": 2
}
